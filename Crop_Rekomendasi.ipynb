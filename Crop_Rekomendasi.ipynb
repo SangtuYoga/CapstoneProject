{
  "nbformat": 4,
  "nbformat_minor": 0,
  "metadata": {
    "colab": {
      "name": "Crop Rekomendasi.ipynb",
      "provenance": []
    },
    "kernelspec": {
      "name": "python3",
      "display_name": "Python 3"
    },
    "language_info": {
      "name": "python"
    }
  },
  "cells": [
    {
      "cell_type": "code",
      "metadata": {
        "id": "zxuLxrDYybgR"
      },
      "source": [
        "import os\n",
        "import zipfile\n",
        "import pandas as pd\n",
        "import matplotlib.pyplot as plt\n",
        "import numpy as np\n",
        "import seaborn as sns\n",
        "\n",
        "from sklearn import metrics\n",
        "from sklearn.metrics import accuracy_score, confusion_matrix, classification_report, plot_confusion_matrix\n",
        "from sklearn.model_selection import train_test_split, GridSearchCV\n",
        "from sklearn.preprocessing import StandardScaler\n",
        "\n",
        "#Machine Learning Model\n",
        "from sklearn.neighbors import KNeighborsClassifier\n",
        "from sklearn.tree import DecisionTreeClassifier\n",
        "from sklearn.svm import LinearSVC\n",
        "from sklearn.linear_model import LogisticRegression\n",
        "from sklearn.ensemble import RandomForestClassifier\n",
        "from xgboost import XGBClassifier"
      ],
      "execution_count": 1,
      "outputs": []
    },
    {
      "cell_type": "code",
      "metadata": {
        "id": "shnVAGWYoGSV"
      },
      "source": [
        "crop = pd.read_csv(\"/content/Crop_recommendation.csv\")"
      ],
      "execution_count": 2,
      "outputs": []
    },
    {
      "cell_type": "code",
      "metadata": {
        "colab": {
          "base_uri": "https://localhost:8080/",
          "height": 206
        },
        "id": "5H1z-aLLoGVp",
        "outputId": "3f2e15ce-37a8-402a-9276-40f2b00aeff4"
      },
      "source": [
        "data =crop.copy()\n",
        "data.head()"
      ],
      "execution_count": 3,
      "outputs": [
        {
          "output_type": "execute_result",
          "data": {
            "text/html": [
              "<div>\n",
              "<style scoped>\n",
              "    .dataframe tbody tr th:only-of-type {\n",
              "        vertical-align: middle;\n",
              "    }\n",
              "\n",
              "    .dataframe tbody tr th {\n",
              "        vertical-align: top;\n",
              "    }\n",
              "\n",
              "    .dataframe thead th {\n",
              "        text-align: right;\n",
              "    }\n",
              "</style>\n",
              "<table border=\"1\" class=\"dataframe\">\n",
              "  <thead>\n",
              "    <tr style=\"text-align: right;\">\n",
              "      <th></th>\n",
              "      <th>N</th>\n",
              "      <th>P</th>\n",
              "      <th>K</th>\n",
              "      <th>temperature</th>\n",
              "      <th>humidity</th>\n",
              "      <th>ph</th>\n",
              "      <th>rainfall</th>\n",
              "      <th>label</th>\n",
              "    </tr>\n",
              "  </thead>\n",
              "  <tbody>\n",
              "    <tr>\n",
              "      <th>0</th>\n",
              "      <td>90</td>\n",
              "      <td>42</td>\n",
              "      <td>43</td>\n",
              "      <td>20.879744</td>\n",
              "      <td>82.002744</td>\n",
              "      <td>6.502985</td>\n",
              "      <td>202.935536</td>\n",
              "      <td>rice</td>\n",
              "    </tr>\n",
              "    <tr>\n",
              "      <th>1</th>\n",
              "      <td>85</td>\n",
              "      <td>58</td>\n",
              "      <td>41</td>\n",
              "      <td>21.770462</td>\n",
              "      <td>80.319644</td>\n",
              "      <td>7.038096</td>\n",
              "      <td>226.655537</td>\n",
              "      <td>rice</td>\n",
              "    </tr>\n",
              "    <tr>\n",
              "      <th>2</th>\n",
              "      <td>60</td>\n",
              "      <td>55</td>\n",
              "      <td>44</td>\n",
              "      <td>23.004459</td>\n",
              "      <td>82.320763</td>\n",
              "      <td>7.840207</td>\n",
              "      <td>263.964248</td>\n",
              "      <td>rice</td>\n",
              "    </tr>\n",
              "    <tr>\n",
              "      <th>3</th>\n",
              "      <td>74</td>\n",
              "      <td>35</td>\n",
              "      <td>40</td>\n",
              "      <td>26.491096</td>\n",
              "      <td>80.158363</td>\n",
              "      <td>6.980401</td>\n",
              "      <td>242.864034</td>\n",
              "      <td>rice</td>\n",
              "    </tr>\n",
              "    <tr>\n",
              "      <th>4</th>\n",
              "      <td>78</td>\n",
              "      <td>42</td>\n",
              "      <td>42</td>\n",
              "      <td>20.130175</td>\n",
              "      <td>81.604873</td>\n",
              "      <td>7.628473</td>\n",
              "      <td>262.717340</td>\n",
              "      <td>rice</td>\n",
              "    </tr>\n",
              "  </tbody>\n",
              "</table>\n",
              "</div>"
            ],
            "text/plain": [
              "    N   P   K  temperature   humidity        ph    rainfall label\n",
              "0  90  42  43    20.879744  82.002744  6.502985  202.935536  rice\n",
              "1  85  58  41    21.770462  80.319644  7.038096  226.655537  rice\n",
              "2  60  55  44    23.004459  82.320763  7.840207  263.964248  rice\n",
              "3  74  35  40    26.491096  80.158363  6.980401  242.864034  rice\n",
              "4  78  42  42    20.130175  81.604873  7.628473  262.717340  rice"
            ]
          },
          "metadata": {},
          "execution_count": 3
        }
      ]
    },
    {
      "cell_type": "code",
      "metadata": {
        "colab": {
          "base_uri": "https://localhost:8080/"
        },
        "id": "UW6HfLO-odK0",
        "outputId": "9fb19dd6-93c4-48f0-a8a2-6f6941d373ab"
      },
      "source": [
        "data.info()"
      ],
      "execution_count": 4,
      "outputs": [
        {
          "output_type": "stream",
          "name": "stdout",
          "text": [
            "<class 'pandas.core.frame.DataFrame'>\n",
            "RangeIndex: 2200 entries, 0 to 2199\n",
            "Data columns (total 8 columns):\n",
            " #   Column       Non-Null Count  Dtype  \n",
            "---  ------       --------------  -----  \n",
            " 0   N            2200 non-null   int64  \n",
            " 1   P            2200 non-null   int64  \n",
            " 2   K            2200 non-null   int64  \n",
            " 3   temperature  2200 non-null   float64\n",
            " 4   humidity     2200 non-null   float64\n",
            " 5   ph           2200 non-null   float64\n",
            " 6   rainfall     2200 non-null   float64\n",
            " 7   label        2200 non-null   object \n",
            "dtypes: float64(4), int64(3), object(1)\n",
            "memory usage: 137.6+ KB\n"
          ]
        }
      ]
    },
    {
      "cell_type": "code",
      "metadata": {
        "colab": {
          "base_uri": "https://localhost:8080/",
          "height": 300
        },
        "id": "7KY5epvhodOp",
        "outputId": "f221d59e-25d8-4465-a0ba-220d1ac52050"
      },
      "source": [
        "data.describe()"
      ],
      "execution_count": 5,
      "outputs": [
        {
          "output_type": "execute_result",
          "data": {
            "text/html": [
              "<div>\n",
              "<style scoped>\n",
              "    .dataframe tbody tr th:only-of-type {\n",
              "        vertical-align: middle;\n",
              "    }\n",
              "\n",
              "    .dataframe tbody tr th {\n",
              "        vertical-align: top;\n",
              "    }\n",
              "\n",
              "    .dataframe thead th {\n",
              "        text-align: right;\n",
              "    }\n",
              "</style>\n",
              "<table border=\"1\" class=\"dataframe\">\n",
              "  <thead>\n",
              "    <tr style=\"text-align: right;\">\n",
              "      <th></th>\n",
              "      <th>N</th>\n",
              "      <th>P</th>\n",
              "      <th>K</th>\n",
              "      <th>temperature</th>\n",
              "      <th>humidity</th>\n",
              "      <th>ph</th>\n",
              "      <th>rainfall</th>\n",
              "    </tr>\n",
              "  </thead>\n",
              "  <tbody>\n",
              "    <tr>\n",
              "      <th>count</th>\n",
              "      <td>2200.000000</td>\n",
              "      <td>2200.000000</td>\n",
              "      <td>2200.000000</td>\n",
              "      <td>2200.000000</td>\n",
              "      <td>2200.000000</td>\n",
              "      <td>2200.000000</td>\n",
              "      <td>2200.000000</td>\n",
              "    </tr>\n",
              "    <tr>\n",
              "      <th>mean</th>\n",
              "      <td>50.551818</td>\n",
              "      <td>53.362727</td>\n",
              "      <td>48.149091</td>\n",
              "      <td>25.616244</td>\n",
              "      <td>71.481779</td>\n",
              "      <td>6.469480</td>\n",
              "      <td>103.463655</td>\n",
              "    </tr>\n",
              "    <tr>\n",
              "      <th>std</th>\n",
              "      <td>36.917334</td>\n",
              "      <td>32.985883</td>\n",
              "      <td>50.647931</td>\n",
              "      <td>5.063749</td>\n",
              "      <td>22.263812</td>\n",
              "      <td>0.773938</td>\n",
              "      <td>54.958389</td>\n",
              "    </tr>\n",
              "    <tr>\n",
              "      <th>min</th>\n",
              "      <td>0.000000</td>\n",
              "      <td>5.000000</td>\n",
              "      <td>5.000000</td>\n",
              "      <td>8.825675</td>\n",
              "      <td>14.258040</td>\n",
              "      <td>3.504752</td>\n",
              "      <td>20.211267</td>\n",
              "    </tr>\n",
              "    <tr>\n",
              "      <th>25%</th>\n",
              "      <td>21.000000</td>\n",
              "      <td>28.000000</td>\n",
              "      <td>20.000000</td>\n",
              "      <td>22.769375</td>\n",
              "      <td>60.261953</td>\n",
              "      <td>5.971693</td>\n",
              "      <td>64.551686</td>\n",
              "    </tr>\n",
              "    <tr>\n",
              "      <th>50%</th>\n",
              "      <td>37.000000</td>\n",
              "      <td>51.000000</td>\n",
              "      <td>32.000000</td>\n",
              "      <td>25.598693</td>\n",
              "      <td>80.473146</td>\n",
              "      <td>6.425045</td>\n",
              "      <td>94.867624</td>\n",
              "    </tr>\n",
              "    <tr>\n",
              "      <th>75%</th>\n",
              "      <td>84.250000</td>\n",
              "      <td>68.000000</td>\n",
              "      <td>49.000000</td>\n",
              "      <td>28.561654</td>\n",
              "      <td>89.948771</td>\n",
              "      <td>6.923643</td>\n",
              "      <td>124.267508</td>\n",
              "    </tr>\n",
              "    <tr>\n",
              "      <th>max</th>\n",
              "      <td>140.000000</td>\n",
              "      <td>145.000000</td>\n",
              "      <td>205.000000</td>\n",
              "      <td>43.675493</td>\n",
              "      <td>99.981876</td>\n",
              "      <td>9.935091</td>\n",
              "      <td>298.560117</td>\n",
              "    </tr>\n",
              "  </tbody>\n",
              "</table>\n",
              "</div>"
            ],
            "text/plain": [
              "                 N            P  ...           ph     rainfall\n",
              "count  2200.000000  2200.000000  ...  2200.000000  2200.000000\n",
              "mean     50.551818    53.362727  ...     6.469480   103.463655\n",
              "std      36.917334    32.985883  ...     0.773938    54.958389\n",
              "min       0.000000     5.000000  ...     3.504752    20.211267\n",
              "25%      21.000000    28.000000  ...     5.971693    64.551686\n",
              "50%      37.000000    51.000000  ...     6.425045    94.867624\n",
              "75%      84.250000    68.000000  ...     6.923643   124.267508\n",
              "max     140.000000   145.000000  ...     9.935091   298.560117\n",
              "\n",
              "[8 rows x 7 columns]"
            ]
          },
          "metadata": {},
          "execution_count": 5
        }
      ]
    },
    {
      "cell_type": "code",
      "metadata": {
        "colab": {
          "base_uri": "https://localhost:8080/"
        },
        "id": "waR4IOsbot_f",
        "outputId": "c6e3dc94-1a13-4a05-c6a2-340070b0690b"
      },
      "source": [
        "#Mengecek Value Null\n",
        "data.isnull().sum().any()"
      ],
      "execution_count": 6,
      "outputs": [
        {
          "output_type": "execute_result",
          "data": {
            "text/plain": [
              "False"
            ]
          },
          "metadata": {},
          "execution_count": 6
        }
      ]
    },
    {
      "cell_type": "code",
      "metadata": {
        "id": "UxpRTn2upd-D"
      },
      "source": [
        "#Drop Duplicate Value\n",
        "data = data.drop_duplicates()"
      ],
      "execution_count": 7,
      "outputs": []
    },
    {
      "cell_type": "code",
      "metadata": {
        "colab": {
          "base_uri": "https://localhost:8080/",
          "height": 424
        },
        "id": "5I1TMazOo_kX",
        "outputId": "02765591-c61e-4ee2-f41c-04ce1b01cffa"
      },
      "source": [
        "#Memberikan angka untuk tiap label\n",
        "from sklearn.preprocessing import LabelEncoder\n",
        "encod = LabelEncoder()\n",
        "data['Encoded_label'] = encod.fit_transform(data.label)\n",
        "data"
      ],
      "execution_count": 8,
      "outputs": [
        {
          "output_type": "execute_result",
          "data": {
            "text/html": [
              "<div>\n",
              "<style scoped>\n",
              "    .dataframe tbody tr th:only-of-type {\n",
              "        vertical-align: middle;\n",
              "    }\n",
              "\n",
              "    .dataframe tbody tr th {\n",
              "        vertical-align: top;\n",
              "    }\n",
              "\n",
              "    .dataframe thead th {\n",
              "        text-align: right;\n",
              "    }\n",
              "</style>\n",
              "<table border=\"1\" class=\"dataframe\">\n",
              "  <thead>\n",
              "    <tr style=\"text-align: right;\">\n",
              "      <th></th>\n",
              "      <th>N</th>\n",
              "      <th>P</th>\n",
              "      <th>K</th>\n",
              "      <th>temperature</th>\n",
              "      <th>humidity</th>\n",
              "      <th>ph</th>\n",
              "      <th>rainfall</th>\n",
              "      <th>label</th>\n",
              "      <th>Encoded_label</th>\n",
              "    </tr>\n",
              "  </thead>\n",
              "  <tbody>\n",
              "    <tr>\n",
              "      <th>0</th>\n",
              "      <td>90</td>\n",
              "      <td>42</td>\n",
              "      <td>43</td>\n",
              "      <td>20.879744</td>\n",
              "      <td>82.002744</td>\n",
              "      <td>6.502985</td>\n",
              "      <td>202.935536</td>\n",
              "      <td>rice</td>\n",
              "      <td>20</td>\n",
              "    </tr>\n",
              "    <tr>\n",
              "      <th>1</th>\n",
              "      <td>85</td>\n",
              "      <td>58</td>\n",
              "      <td>41</td>\n",
              "      <td>21.770462</td>\n",
              "      <td>80.319644</td>\n",
              "      <td>7.038096</td>\n",
              "      <td>226.655537</td>\n",
              "      <td>rice</td>\n",
              "      <td>20</td>\n",
              "    </tr>\n",
              "    <tr>\n",
              "      <th>2</th>\n",
              "      <td>60</td>\n",
              "      <td>55</td>\n",
              "      <td>44</td>\n",
              "      <td>23.004459</td>\n",
              "      <td>82.320763</td>\n",
              "      <td>7.840207</td>\n",
              "      <td>263.964248</td>\n",
              "      <td>rice</td>\n",
              "      <td>20</td>\n",
              "    </tr>\n",
              "    <tr>\n",
              "      <th>3</th>\n",
              "      <td>74</td>\n",
              "      <td>35</td>\n",
              "      <td>40</td>\n",
              "      <td>26.491096</td>\n",
              "      <td>80.158363</td>\n",
              "      <td>6.980401</td>\n",
              "      <td>242.864034</td>\n",
              "      <td>rice</td>\n",
              "      <td>20</td>\n",
              "    </tr>\n",
              "    <tr>\n",
              "      <th>4</th>\n",
              "      <td>78</td>\n",
              "      <td>42</td>\n",
              "      <td>42</td>\n",
              "      <td>20.130175</td>\n",
              "      <td>81.604873</td>\n",
              "      <td>7.628473</td>\n",
              "      <td>262.717340</td>\n",
              "      <td>rice</td>\n",
              "      <td>20</td>\n",
              "    </tr>\n",
              "    <tr>\n",
              "      <th>...</th>\n",
              "      <td>...</td>\n",
              "      <td>...</td>\n",
              "      <td>...</td>\n",
              "      <td>...</td>\n",
              "      <td>...</td>\n",
              "      <td>...</td>\n",
              "      <td>...</td>\n",
              "      <td>...</td>\n",
              "      <td>...</td>\n",
              "    </tr>\n",
              "    <tr>\n",
              "      <th>2195</th>\n",
              "      <td>107</td>\n",
              "      <td>34</td>\n",
              "      <td>32</td>\n",
              "      <td>26.774637</td>\n",
              "      <td>66.413269</td>\n",
              "      <td>6.780064</td>\n",
              "      <td>177.774507</td>\n",
              "      <td>coffee</td>\n",
              "      <td>5</td>\n",
              "    </tr>\n",
              "    <tr>\n",
              "      <th>2196</th>\n",
              "      <td>99</td>\n",
              "      <td>15</td>\n",
              "      <td>27</td>\n",
              "      <td>27.417112</td>\n",
              "      <td>56.636362</td>\n",
              "      <td>6.086922</td>\n",
              "      <td>127.924610</td>\n",
              "      <td>coffee</td>\n",
              "      <td>5</td>\n",
              "    </tr>\n",
              "    <tr>\n",
              "      <th>2197</th>\n",
              "      <td>118</td>\n",
              "      <td>33</td>\n",
              "      <td>30</td>\n",
              "      <td>24.131797</td>\n",
              "      <td>67.225123</td>\n",
              "      <td>6.362608</td>\n",
              "      <td>173.322839</td>\n",
              "      <td>coffee</td>\n",
              "      <td>5</td>\n",
              "    </tr>\n",
              "    <tr>\n",
              "      <th>2198</th>\n",
              "      <td>117</td>\n",
              "      <td>32</td>\n",
              "      <td>34</td>\n",
              "      <td>26.272418</td>\n",
              "      <td>52.127394</td>\n",
              "      <td>6.758793</td>\n",
              "      <td>127.175293</td>\n",
              "      <td>coffee</td>\n",
              "      <td>5</td>\n",
              "    </tr>\n",
              "    <tr>\n",
              "      <th>2199</th>\n",
              "      <td>104</td>\n",
              "      <td>18</td>\n",
              "      <td>30</td>\n",
              "      <td>23.603016</td>\n",
              "      <td>60.396475</td>\n",
              "      <td>6.779833</td>\n",
              "      <td>140.937041</td>\n",
              "      <td>coffee</td>\n",
              "      <td>5</td>\n",
              "    </tr>\n",
              "  </tbody>\n",
              "</table>\n",
              "<p>2200 rows × 9 columns</p>\n",
              "</div>"
            ],
            "text/plain": [
              "        N   P   K  temperature  ...        ph    rainfall   label Encoded_label\n",
              "0      90  42  43    20.879744  ...  6.502985  202.935536    rice            20\n",
              "1      85  58  41    21.770462  ...  7.038096  226.655537    rice            20\n",
              "2      60  55  44    23.004459  ...  7.840207  263.964248    rice            20\n",
              "3      74  35  40    26.491096  ...  6.980401  242.864034    rice            20\n",
              "4      78  42  42    20.130175  ...  7.628473  262.717340    rice            20\n",
              "...   ...  ..  ..          ...  ...       ...         ...     ...           ...\n",
              "2195  107  34  32    26.774637  ...  6.780064  177.774507  coffee             5\n",
              "2196   99  15  27    27.417112  ...  6.086922  127.924610  coffee             5\n",
              "2197  118  33  30    24.131797  ...  6.362608  173.322839  coffee             5\n",
              "2198  117  32  34    26.272418  ...  6.758793  127.175293  coffee             5\n",
              "2199  104  18  30    23.603016  ...  6.779833  140.937041  coffee             5\n",
              "\n",
              "[2200 rows x 9 columns]"
            ]
          },
          "metadata": {},
          "execution_count": 8
        }
      ]
    },
    {
      "cell_type": "code",
      "metadata": {
        "colab": {
          "base_uri": "https://localhost:8080/",
          "height": 771
        },
        "id": "Sg2V9uCGpVUn",
        "outputId": "ab2ca309-a554-4aa9-ef88-ce7e3db11b86"
      },
      "source": [
        "#encoded labels for classes \n",
        "a = pd.DataFrame(pd.unique(data.label));\n",
        "a.rename(columns={0:'label'},inplace=True)\n",
        "b = pd.DataFrame(pd.unique(data.Encoded_label));\n",
        "b.rename(columns={0:'encoded'},inplace=True)\n",
        "classes = pd.concat([a,b],axis=1).sort_values('encoded').set_index('label')\n",
        "classes"
      ],
      "execution_count": 9,
      "outputs": [
        {
          "output_type": "execute_result",
          "data": {
            "text/html": [
              "<div>\n",
              "<style scoped>\n",
              "    .dataframe tbody tr th:only-of-type {\n",
              "        vertical-align: middle;\n",
              "    }\n",
              "\n",
              "    .dataframe tbody tr th {\n",
              "        vertical-align: top;\n",
              "    }\n",
              "\n",
              "    .dataframe thead th {\n",
              "        text-align: right;\n",
              "    }\n",
              "</style>\n",
              "<table border=\"1\" class=\"dataframe\">\n",
              "  <thead>\n",
              "    <tr style=\"text-align: right;\">\n",
              "      <th></th>\n",
              "      <th>encoded</th>\n",
              "    </tr>\n",
              "    <tr>\n",
              "      <th>label</th>\n",
              "      <th></th>\n",
              "    </tr>\n",
              "  </thead>\n",
              "  <tbody>\n",
              "    <tr>\n",
              "      <th>apple</th>\n",
              "      <td>0</td>\n",
              "    </tr>\n",
              "    <tr>\n",
              "      <th>banana</th>\n",
              "      <td>1</td>\n",
              "    </tr>\n",
              "    <tr>\n",
              "      <th>blackgram</th>\n",
              "      <td>2</td>\n",
              "    </tr>\n",
              "    <tr>\n",
              "      <th>chickpea</th>\n",
              "      <td>3</td>\n",
              "    </tr>\n",
              "    <tr>\n",
              "      <th>coconut</th>\n",
              "      <td>4</td>\n",
              "    </tr>\n",
              "    <tr>\n",
              "      <th>coffee</th>\n",
              "      <td>5</td>\n",
              "    </tr>\n",
              "    <tr>\n",
              "      <th>cotton</th>\n",
              "      <td>6</td>\n",
              "    </tr>\n",
              "    <tr>\n",
              "      <th>grapes</th>\n",
              "      <td>7</td>\n",
              "    </tr>\n",
              "    <tr>\n",
              "      <th>jute</th>\n",
              "      <td>8</td>\n",
              "    </tr>\n",
              "    <tr>\n",
              "      <th>kidneybeans</th>\n",
              "      <td>9</td>\n",
              "    </tr>\n",
              "    <tr>\n",
              "      <th>lentil</th>\n",
              "      <td>10</td>\n",
              "    </tr>\n",
              "    <tr>\n",
              "      <th>maize</th>\n",
              "      <td>11</td>\n",
              "    </tr>\n",
              "    <tr>\n",
              "      <th>mango</th>\n",
              "      <td>12</td>\n",
              "    </tr>\n",
              "    <tr>\n",
              "      <th>mothbeans</th>\n",
              "      <td>13</td>\n",
              "    </tr>\n",
              "    <tr>\n",
              "      <th>mungbean</th>\n",
              "      <td>14</td>\n",
              "    </tr>\n",
              "    <tr>\n",
              "      <th>muskmelon</th>\n",
              "      <td>15</td>\n",
              "    </tr>\n",
              "    <tr>\n",
              "      <th>orange</th>\n",
              "      <td>16</td>\n",
              "    </tr>\n",
              "    <tr>\n",
              "      <th>papaya</th>\n",
              "      <td>17</td>\n",
              "    </tr>\n",
              "    <tr>\n",
              "      <th>pigeonpeas</th>\n",
              "      <td>18</td>\n",
              "    </tr>\n",
              "    <tr>\n",
              "      <th>pomegranate</th>\n",
              "      <td>19</td>\n",
              "    </tr>\n",
              "    <tr>\n",
              "      <th>rice</th>\n",
              "      <td>20</td>\n",
              "    </tr>\n",
              "    <tr>\n",
              "      <th>watermelon</th>\n",
              "      <td>21</td>\n",
              "    </tr>\n",
              "  </tbody>\n",
              "</table>\n",
              "</div>"
            ],
            "text/plain": [
              "             encoded\n",
              "label               \n",
              "apple              0\n",
              "banana             1\n",
              "blackgram          2\n",
              "chickpea           3\n",
              "coconut            4\n",
              "coffee             5\n",
              "cotton             6\n",
              "grapes             7\n",
              "jute               8\n",
              "kidneybeans        9\n",
              "lentil            10\n",
              "maize             11\n",
              "mango             12\n",
              "mothbeans         13\n",
              "mungbean          14\n",
              "muskmelon         15\n",
              "orange            16\n",
              "papaya            17\n",
              "pigeonpeas        18\n",
              "pomegranate       19\n",
              "rice              20\n",
              "watermelon        21"
            ]
          },
          "metadata": {},
          "execution_count": 9
        }
      ]
    },
    {
      "cell_type": "code",
      "metadata": {
        "colab": {
          "base_uri": "https://localhost:8080/",
          "height": 522
        },
        "id": "wegav4sapo0u",
        "outputId": "20de35a1-fef8-43e5-9531-3d6fb5719452"
      },
      "source": [
        "plt.figure(figsize=(10, 8))\n",
        "sns.heatmap(data.corr(), annot=True, cmap='coolwarm', linewidths=0.5, )\n",
        "plt.title(\"Correlation Matrix untuk Fitur Numerik \", size=20)"
      ],
      "execution_count": 10,
      "outputs": [
        {
          "output_type": "execute_result",
          "data": {
            "text/plain": [
              "Text(0.5, 1.0, 'Correlation Matrix untuk Fitur Numerik ')"
            ]
          },
          "metadata": {},
          "execution_count": 10
        },
        {
          "output_type": "display_data",
          "data": {
            "image/png": "[encoded data removed]",
            "text/plain": [
              "<Figure size 720x576 with 2 Axes>"
            ]
          },
          "metadata": {
            "needs_background": "light"
          }
        }
      ]
    },
    {
      "cell_type": "code",
      "metadata": {
        "colab": {
          "base_uri": "https://localhost:8080/"
        },
        "id": "sK2_JLKqrkZM",
        "outputId": "2a4803a1-2e2e-4142-d3a8-360a99cc001f"
      },
      "source": [
        "#membagi input dan output\n",
        "x = data.iloc[:,:-2]\n",
        "y = data.Encoded_label\n",
        "print('Input variables \\n',x.head())\n",
        "print('\\nOutput Variable\\n',y.head())"
      ],
      "execution_count": 11,
      "outputs": [
        {
          "output_type": "stream",
          "name": "stdout",
          "text": [
            "Input variables \n",
            "     N   P   K  temperature   humidity        ph    rainfall\n",
            "0  90  42  43    20.879744  82.002744  6.502985  202.935536\n",
            "1  85  58  41    21.770462  80.319644  7.038096  226.655537\n",
            "2  60  55  44    23.004459  82.320763  7.840207  263.964248\n",
            "3  74  35  40    26.491096  80.158363  6.980401  242.864034\n",
            "4  78  42  42    20.130175  81.604873  7.628473  262.717340\n",
            "\n",
            "Output Variable\n",
            " 0    20\n",
            "1    20\n",
            "2    20\n",
            "3    20\n",
            "4    20\n",
            "Name: Encoded_label, dtype: int64\n"
          ]
        }
      ]
    },
    {
      "cell_type": "code",
      "metadata": {
        "id": "ZNuCNYU8pAgW",
        "colab": {
          "base_uri": "https://localhost:8080/"
        },
        "outputId": "2ceec3e1-5b7b-4eb8-b6fa-2c781cd6f0fd"
      },
      "source": [
        "x_train, x_test, y_train, y_test = train_test_split(x,y,test_size=0.2,random_state=2)\n",
        "print('x_train = {}, x_test = {}, y_train = {}, y_test = {}'.format(x_train.shape,x_test.shape,y_train.shape,y_test.shape))"
      ],
      "execution_count": 12,
      "outputs": [
        {
          "output_type": "stream",
          "name": "stdout",
          "text": [
            "x_train = (1760, 7), x_test = (440, 7), y_train = (1760,), y_test = (440,)\n"
          ]
        }
      ]
    },
    {
      "cell_type": "markdown",
      "metadata": {
        "id": "903wUakY_owO"
      },
      "source": [
        "###Numerical Scaler"
      ]
    },
    {
      "cell_type": "code",
      "metadata": {
        "colab": {
          "base_uri": "https://localhost:8080/",
          "height": 206
        },
        "id": "4Jjv6slysa-P",
        "outputId": "ef44a552-8102-4757-823c-89fd7e25d66a"
      },
      "source": [
        "numerical_features = ['N', 'P', 'K', 'temperature', 'humidity', 'ph', 'rainfall']\n",
        "scaler = StandardScaler()\n",
        "scaler.fit(x_train[numerical_features])\n",
        "x_train[numerical_features] = scaler.transform(x_train.loc[:, numerical_features])\n",
        "x_train[numerical_features].head()"
      ],
      "execution_count": 23,
      "outputs": [
        {
          "output_type": "execute_result",
          "data": {
            "text/html": [
              "<div>\n",
              "<style scoped>\n",
              "    .dataframe tbody tr th:only-of-type {\n",
              "        vertical-align: middle;\n",
              "    }\n",
              "\n",
              "    .dataframe tbody tr th {\n",
              "        vertical-align: top;\n",
              "    }\n",
              "\n",
              "    .dataframe thead th {\n",
              "        text-align: right;\n",
              "    }\n",
              "</style>\n",
              "<table border=\"1\" class=\"dataframe\">\n",
              "  <thead>\n",
              "    <tr style=\"text-align: right;\">\n",
              "      <th></th>\n",
              "      <th>N</th>\n",
              "      <th>P</th>\n",
              "      <th>K</th>\n",
              "      <th>temperature</th>\n",
              "      <th>humidity</th>\n",
              "      <th>ph</th>\n",
              "      <th>rainfall</th>\n",
              "    </tr>\n",
              "  </thead>\n",
              "  <tbody>\n",
              "    <tr>\n",
              "      <th>1936</th>\n",
              "      <td>1.699918</td>\n",
              "      <td>-0.484501</td>\n",
              "      <td>-0.466543</td>\n",
              "      <td>-0.701713</td>\n",
              "      <td>0.365347</td>\n",
              "      <td>1.203562</td>\n",
              "      <td>-0.235519</td>\n",
              "    </tr>\n",
              "    <tr>\n",
              "      <th>610</th>\n",
              "      <td>-0.607210</td>\n",
              "      <td>-0.574434</td>\n",
              "      <td>-0.524526</td>\n",
              "      <td>0.776683</td>\n",
              "      <td>0.690041</td>\n",
              "      <td>0.903894</td>\n",
              "      <td>-0.792016</td>\n",
              "    </tr>\n",
              "    <tr>\n",
              "      <th>372</th>\n",
              "      <td>-1.068635</td>\n",
              "      <td>0.204991</td>\n",
              "      <td>-0.543854</td>\n",
              "      <td>-1.364886</td>\n",
              "      <td>-2.158976</td>\n",
              "      <td>-1.197074</td>\n",
              "      <td>0.582664</td>\n",
              "    </tr>\n",
              "    <tr>\n",
              "      <th>1559</th>\n",
              "      <td>-0.580067</td>\n",
              "      <td>2.543267</td>\n",
              "      <td>3.012433</td>\n",
              "      <td>-0.379593</td>\n",
              "      <td>1.003572</td>\n",
              "      <td>-0.390244</td>\n",
              "      <td>0.242997</td>\n",
              "    </tr>\n",
              "    <tr>\n",
              "      <th>1500</th>\n",
              "      <td>-0.715780</td>\n",
              "      <td>2.213510</td>\n",
              "      <td>2.838484</td>\n",
              "      <td>-0.554446</td>\n",
              "      <td>0.867192</td>\n",
              "      <td>-1.210827</td>\n",
              "      <td>0.128975</td>\n",
              "    </tr>\n",
              "  </tbody>\n",
              "</table>\n",
              "</div>"
            ],
            "text/plain": [
              "             N         P         K  temperature  humidity        ph  rainfall\n",
              "1936  1.699918 -0.484501 -0.466543    -0.701713  0.365347  1.203562 -0.235519\n",
              "610  -0.607210 -0.574434 -0.524526     0.776683  0.690041  0.903894 -0.792016\n",
              "372  -1.068635  0.204991 -0.543854    -1.364886 -2.158976 -1.197074  0.582664\n",
              "1559 -0.580067  2.543267  3.012433    -0.379593  1.003572 -0.390244  0.242997\n",
              "1500 -0.715780  2.213510  2.838484    -0.554446  0.867192 -1.210827  0.128975"
            ]
          },
          "metadata": {},
          "execution_count": 23
        }
      ]
    },
    {
      "cell_type": "code",
      "metadata": {
        "id": "G8Ai9fkxoozH"
      },
      "source": [
        " x_test.loc[:, numerical_features] = scaler.transform(x_test[numerical_features])"
      ],
      "execution_count": 24,
      "outputs": []
    },
    {
      "cell_type": "code",
      "metadata": {
        "colab": {
          "base_uri": "https://localhost:8080/",
          "height": 424
        },
        "id": "4XYf3WCorQnV",
        "outputId": "7d55dc08-f1d7-41ef-f60f-c0343085b5a4"
      },
      "source": [
        " x_test.loc[:, numerical_features]"
      ],
      "execution_count": 25,
      "outputs": [
        {
          "output_type": "execute_result",
          "data": {
            "text/html": [
              "<div>\n",
              "<style scoped>\n",
              "    .dataframe tbody tr th:only-of-type {\n",
              "        vertical-align: middle;\n",
              "    }\n",
              "\n",
              "    .dataframe tbody tr th {\n",
              "        vertical-align: top;\n",
              "    }\n",
              "\n",
              "    .dataframe thead th {\n",
              "        text-align: right;\n",
              "    }\n",
              "</style>\n",
              "<table border=\"1\" class=\"dataframe\">\n",
              "  <thead>\n",
              "    <tr style=\"text-align: right;\">\n",
              "      <th></th>\n",
              "      <th>N</th>\n",
              "      <th>P</th>\n",
              "      <th>K</th>\n",
              "      <th>temperature</th>\n",
              "      <th>humidity</th>\n",
              "      <th>ph</th>\n",
              "      <th>rainfall</th>\n",
              "    </tr>\n",
              "  </thead>\n",
              "  <tbody>\n",
              "    <tr>\n",
              "      <th>2121</th>\n",
              "      <td>0.885638</td>\n",
              "      <td>-0.994125</td>\n",
              "      <td>-0.408560</td>\n",
              "      <td>-0.001418</td>\n",
              "      <td>-0.483431</td>\n",
              "      <td>1.305263</td>\n",
              "      <td>1.582504</td>\n",
              "    </tr>\n",
              "    <tr>\n",
              "      <th>960</th>\n",
              "      <td>-1.340062</td>\n",
              "      <td>-0.814257</td>\n",
              "      <td>-0.253939</td>\n",
              "      <td>-0.311939</td>\n",
              "      <td>0.985584</td>\n",
              "      <td>-0.999330</td>\n",
              "      <td>0.029871</td>\n",
              "    </tr>\n",
              "    <tr>\n",
              "      <th>952</th>\n",
              "      <td>-0.742923</td>\n",
              "      <td>-1.473771</td>\n",
              "      <td>-0.099318</td>\n",
              "      <td>-0.857533</td>\n",
              "      <td>1.026756</td>\n",
              "      <td>0.912225</td>\n",
              "      <td>0.076774</td>\n",
              "    </tr>\n",
              "    <tr>\n",
              "      <th>1958</th>\n",
              "      <td>1.781346</td>\n",
              "      <td>-0.064810</td>\n",
              "      <td>-0.582509</td>\n",
              "      <td>-0.516772</td>\n",
              "      <td>0.181955</td>\n",
              "      <td>-0.443805</td>\n",
              "      <td>-0.660717</td>\n",
              "    </tr>\n",
              "    <tr>\n",
              "      <th>681</th>\n",
              "      <td>-1.204349</td>\n",
              "      <td>-0.514479</td>\n",
              "      <td>-0.621164</td>\n",
              "      <td>0.493197</td>\n",
              "      <td>0.404581</td>\n",
              "      <td>0.391904</td>\n",
              "      <td>-1.187806</td>\n",
              "    </tr>\n",
              "    <tr>\n",
              "      <th>...</th>\n",
              "      <td>...</td>\n",
              "      <td>...</td>\n",
              "      <td>...</td>\n",
              "      <td>...</td>\n",
              "      <td>...</td>\n",
              "      <td>...</td>\n",
              "      <td>...</td>\n",
              "    </tr>\n",
              "    <tr>\n",
              "      <th>1684</th>\n",
              "      <td>-1.177206</td>\n",
              "      <td>-1.114036</td>\n",
              "      <td>-0.756458</td>\n",
              "      <td>-3.025777</td>\n",
              "      <td>0.890818</td>\n",
              "      <td>0.010655</td>\n",
              "      <td>0.054850</td>\n",
              "    </tr>\n",
              "    <tr>\n",
              "      <th>1477</th>\n",
              "      <td>0.967066</td>\n",
              "      <td>-1.084059</td>\n",
              "      <td>-0.079990</td>\n",
              "      <td>0.665843</td>\n",
              "      <td>0.868240</td>\n",
              "      <td>0.141082</td>\n",
              "      <td>-1.477192</td>\n",
              "    </tr>\n",
              "    <tr>\n",
              "      <th>851</th>\n",
              "      <td>-1.204349</td>\n",
              "      <td>0.294925</td>\n",
              "      <td>-0.505198</td>\n",
              "      <td>-0.439630</td>\n",
              "      <td>-0.174326</td>\n",
              "      <td>0.785814</td>\n",
              "      <td>-1.223472</td>\n",
              "    </tr>\n",
              "    <tr>\n",
              "      <th>370</th>\n",
              "      <td>-0.362925</td>\n",
              "      <td>0.055101</td>\n",
              "      <td>-0.466543</td>\n",
              "      <td>-0.690900</td>\n",
              "      <td>-2.311929</td>\n",
              "      <td>-0.883241</td>\n",
              "      <td>0.425801</td>\n",
              "    </tr>\n",
              "    <tr>\n",
              "      <th>2010</th>\n",
              "      <td>1.048494</td>\n",
              "      <td>-0.034832</td>\n",
              "      <td>-0.099318</td>\n",
              "      <td>-0.135042</td>\n",
              "      <td>0.027469</td>\n",
              "      <td>1.114930</td>\n",
              "      <td>0.854302</td>\n",
              "    </tr>\n",
              "  </tbody>\n",
              "</table>\n",
              "<p>440 rows × 7 columns</p>\n",
              "</div>"
            ],
            "text/plain": [
              "             N         P         K  temperature  humidity        ph  rainfall\n",
              "2121  0.885638 -0.994125 -0.408560    -0.001418 -0.483431  1.305263  1.582504\n",
              "960  -1.340062 -0.814257 -0.253939    -0.311939  0.985584 -0.999330  0.029871\n",
              "952  -0.742923 -1.473771 -0.099318    -0.857533  1.026756  0.912225  0.076774\n",
              "1958  1.781346 -0.064810 -0.582509    -0.516772  0.181955 -0.443805 -0.660717\n",
              "681  -1.204349 -0.514479 -0.621164     0.493197  0.404581  0.391904 -1.187806\n",
              "...        ...       ...       ...          ...       ...       ...       ...\n",
              "1684 -1.177206 -1.114036 -0.756458    -3.025777  0.890818  0.010655  0.054850\n",
              "1477  0.967066 -1.084059 -0.079990     0.665843  0.868240  0.141082 -1.477192\n",
              "851  -1.204349  0.294925 -0.505198    -0.439630 -0.174326  0.785814 -1.223472\n",
              "370  -0.362925  0.055101 -0.466543    -0.690900 -2.311929 -0.883241  0.425801\n",
              "2010  1.048494 -0.034832 -0.099318    -0.135042  0.027469  1.114930  0.854302\n",
              "\n",
              "[440 rows x 7 columns]"
            ]
          },
          "metadata": {},
          "execution_count": 25
        }
      ]
    },
    {
      "cell_type": "markdown",
      "metadata": {
        "id": "0m4AX9jcuE5e"
      },
      "source": [
        "Pembuatan model dan training"
      ]
    },
    {
      "cell_type": "code",
      "metadata": {
        "id": "eBlTD-DYj7yx",
        "colab": {
          "base_uri": "https://localhost:8080/"
        },
        "outputId": "3d945626-c9c4-43c1-8e1d-d2f48f79794c"
      },
      "source": [
        "#K-Nearest Neigbors classifier\n",
        "KNN_model = KNeighborsClassifier(n_neighbors=5)\n",
        "KNN_model.fit(x_train,y_train)\n",
        "KNNPrediction = KNN_model.predict(x_test)\n",
        "\n",
        "#Decission Tree Classifier\n",
        "decissionTree = DecisionTreeClassifier(criterion='entropy',random_state=0)\n",
        "decissionTree.fit(x_train,y_train)\n",
        "TreePrediction = decissionTree.predict(x_test)\n",
        "\n",
        "#Support Vector Machine Classifier\n",
        "SVM = LinearSVC(random_state=0, max_iter=1000000)\n",
        "SVM.fit(x_train, y_train)\n",
        "SVMPrediction = SVM.predict(x_test)\n",
        "\n",
        "#Linear Regression\n",
        "Logis = LogisticRegression()\n",
        "Logis.fit(x_train,y_train)\n",
        "LogisPred = Logis.predict(x_test)\n",
        "\n",
        "#Random Forest\n",
        "RForest = RandomForestClassifier()\n",
        "RForest.fit(x_train,y_train)\n",
        "RForestPred = RForest.predict(x_test)\n",
        "\n",
        "#XGBoost\n",
        "xgb = XGBClassifier()\n",
        "xgb.fit(x_train,y_train)\n",
        "xgbPred = xgb.predict(x_test)"
      ],
      "execution_count": 13,
      "outputs": [
        {
          "output_type": "stream",
          "name": "stderr",
          "text": [
            "/usr/local/lib/python3.7/dist-packages/sklearn/svm/_base.py:1208: ConvergenceWarning: Liblinear failed to converge, increase the number of iterations.\n",
            "  ConvergenceWarning,\n",
            "/usr/local/lib/python3.7/dist-packages/sklearn/linear_model/_logistic.py:818: ConvergenceWarning: lbfgs failed to converge (status=1):\n",
            "STOP: TOTAL NO. of ITERATIONS REACHED LIMIT.\n",
            "\n",
            "Increase the number of iterations (max_iter) or scale the data as shown in:\n",
            "    https://scikit-learn.org/stable/modules/preprocessing.html\n",
            "Please also refer to the documentation for alternative solver options:\n",
            "    https://scikit-learn.org/stable/modules/linear_model.html#logistic-regression\n",
            "  extra_warning_msg=_LOGISTIC_SOLVER_CONVERGENCE_MSG,\n"
          ]
        }
      ]
    },
    {
      "cell_type": "code",
      "metadata": {
        "colab": {
          "base_uri": "https://localhost:8080/"
        },
        "id": "2NAkyA2_u7Mx",
        "outputId": "38045f2c-d205-41b1-baf0-82f249a4049c"
      },
      "source": [
        "#classification report KNN\n",
        "print('REPORT : \\n',classification_report(y_test,KNNPrediction))\n",
        "acc_logis = accuracy_score(y_test,KNNPrediction)"
      ],
      "execution_count": 14,
      "outputs": [
        {
          "output_type": "stream",
          "name": "stdout",
          "text": [
            "REPORT : \n",
            "               precision    recall  f1-score   support\n",
            "\n",
            "           0       1.00      1.00      1.00        13\n",
            "           1       1.00      1.00      1.00        17\n",
            "           2       0.94      1.00      0.97        16\n",
            "           3       1.00      1.00      1.00        21\n",
            "           4       1.00      1.00      1.00        21\n",
            "           5       1.00      1.00      1.00        22\n",
            "           6       0.95      1.00      0.98        20\n",
            "           7       1.00      1.00      1.00        18\n",
            "           8       0.89      0.86      0.87        28\n",
            "           9       0.93      1.00      0.97        14\n",
            "          10       0.96      1.00      0.98        23\n",
            "          11       1.00      0.95      0.98        21\n",
            "          12       1.00      1.00      1.00        26\n",
            "          13       1.00      0.89      0.94        19\n",
            "          14       1.00      1.00      1.00        24\n",
            "          15       1.00      1.00      1.00        23\n",
            "          16       1.00      1.00      1.00        29\n",
            "          17       1.00      1.00      1.00        19\n",
            "          18       1.00      0.94      0.97        18\n",
            "          19       1.00      1.00      1.00        17\n",
            "          20       0.76      0.81      0.79        16\n",
            "          21       1.00      1.00      1.00        15\n",
            "\n",
            "    accuracy                           0.97       440\n",
            "   macro avg       0.97      0.98      0.97       440\n",
            "weighted avg       0.98      0.97      0.98       440\n",
            "\n"
          ]
        }
      ]
    },
    {
      "cell_type": "code",
      "metadata": {
        "colab": {
          "base_uri": "https://localhost:8080/"
        },
        "id": "t0moJRlPvcRk",
        "outputId": "ef45a63f-191e-473d-af2b-aed47cc387e6"
      },
      "source": [
        "#classification report Decision Tree\n",
        "print('REPORT : \\n',classification_report(y_test,TreePrediction))\n",
        "acc_logis = accuracy_score(y_test,TreePrediction)"
      ],
      "execution_count": 15,
      "outputs": [
        {
          "output_type": "stream",
          "name": "stdout",
          "text": [
            "REPORT : \n",
            "               precision    recall  f1-score   support\n",
            "\n",
            "           0       1.00      1.00      1.00        13\n",
            "           1       1.00      1.00      1.00        17\n",
            "           2       0.94      1.00      0.97        16\n",
            "           3       1.00      1.00      1.00        21\n",
            "           4       1.00      1.00      1.00        21\n",
            "           5       1.00      1.00      1.00        22\n",
            "           6       1.00      1.00      1.00        20\n",
            "           7       1.00      1.00      1.00        18\n",
            "           8       0.90      0.93      0.91        28\n",
            "           9       1.00      1.00      1.00        14\n",
            "          10       0.96      1.00      0.98        23\n",
            "          11       1.00      1.00      1.00        21\n",
            "          12       1.00      1.00      1.00        26\n",
            "          13       1.00      0.89      0.94        19\n",
            "          14       1.00      1.00      1.00        24\n",
            "          15       1.00      1.00      1.00        23\n",
            "          16       1.00      1.00      1.00        29\n",
            "          17       1.00      1.00      1.00        19\n",
            "          18       1.00      1.00      1.00        18\n",
            "          19       1.00      1.00      1.00        17\n",
            "          20       0.87      0.81      0.84        16\n",
            "          21       1.00      1.00      1.00        15\n",
            "\n",
            "    accuracy                           0.98       440\n",
            "   macro avg       0.98      0.98      0.98       440\n",
            "weighted avg       0.98      0.98      0.98       440\n",
            "\n"
          ]
        }
      ]
    },
    {
      "cell_type": "code",
      "metadata": {
        "colab": {
          "base_uri": "https://localhost:8080/"
        },
        "id": "D-I8Z8kFviYD",
        "outputId": "a955e4ae-c0fe-436e-a50a-8327914a0f90"
      },
      "source": [
        "#classification report SVM\n",
        "print('REPORT : \\n',classification_report(y_test,SVMPrediction))\n",
        "acc_logis = accuracy_score(y_test,SVMPrediction)"
      ],
      "execution_count": 16,
      "outputs": [
        {
          "output_type": "stream",
          "name": "stdout",
          "text": [
            "REPORT : \n",
            "               precision    recall  f1-score   support\n",
            "\n",
            "           0       1.00      1.00      1.00        13\n",
            "           1       1.00      1.00      1.00        17\n",
            "           2       0.88      0.88      0.88        16\n",
            "           3       1.00      1.00      1.00        21\n",
            "           4       1.00      1.00      1.00        21\n",
            "           5       1.00      1.00      1.00        22\n",
            "           6       0.87      1.00      0.93        20\n",
            "           7       1.00      1.00      1.00        18\n",
            "           8       0.75      0.64      0.69        28\n",
            "           9       1.00      1.00      1.00        14\n",
            "          10       0.88      0.96      0.92        23\n",
            "          11       1.00      0.76      0.86        21\n",
            "          12       1.00      1.00      1.00        26\n",
            "          13       0.94      0.84      0.89        19\n",
            "          14       1.00      0.96      0.98        24\n",
            "          15       1.00      1.00      1.00        23\n",
            "          16       1.00      1.00      1.00        29\n",
            "          17       0.88      0.79      0.83        19\n",
            "          18       1.00      0.94      0.97        18\n",
            "          19       1.00      0.94      0.97        17\n",
            "          20       0.56      0.94      0.70        16\n",
            "          21       1.00      1.00      1.00        15\n",
            "\n",
            "    accuracy                           0.93       440\n",
            "   macro avg       0.94      0.94      0.94       440\n",
            "weighted avg       0.94      0.93      0.94       440\n",
            "\n"
          ]
        }
      ]
    },
    {
      "cell_type": "code",
      "metadata": {
        "colab": {
          "base_uri": "https://localhost:8080/"
        },
        "id": "3gc5WfK8vmes",
        "outputId": "c509305e-2ecf-4d82-e252-c0c4cad49520"
      },
      "source": [
        "#classification report Linear Regression\n",
        "print('REPORT : \\n',classification_report(y_test,LogisPred))\n",
        "acc_logis = accuracy_score(y_test,LogisPred)"
      ],
      "execution_count": 17,
      "outputs": [
        {
          "output_type": "stream",
          "name": "stdout",
          "text": [
            "REPORT : \n",
            "               precision    recall  f1-score   support\n",
            "\n",
            "           0       1.00      1.00      1.00        13\n",
            "           1       1.00      1.00      1.00        17\n",
            "           2       0.86      0.75      0.80        16\n",
            "           3       1.00      1.00      1.00        21\n",
            "           4       1.00      1.00      1.00        21\n",
            "           5       1.00      1.00      1.00        22\n",
            "           6       0.86      0.90      0.88        20\n",
            "           7       1.00      1.00      1.00        18\n",
            "           8       0.84      0.93      0.88        28\n",
            "           9       1.00      1.00      1.00        14\n",
            "          10       0.88      1.00      0.94        23\n",
            "          11       0.90      0.86      0.88        21\n",
            "          12       0.96      1.00      0.98        26\n",
            "          13       0.84      0.84      0.84        19\n",
            "          14       1.00      0.96      0.98        24\n",
            "          15       1.00      1.00      1.00        23\n",
            "          16       1.00      1.00      1.00        29\n",
            "          17       1.00      0.95      0.97        19\n",
            "          18       1.00      1.00      1.00        18\n",
            "          19       1.00      1.00      1.00        17\n",
            "          20       0.85      0.69      0.76        16\n",
            "          21       1.00      1.00      1.00        15\n",
            "\n",
            "    accuracy                           0.95       440\n",
            "   macro avg       0.95      0.95      0.95       440\n",
            "weighted avg       0.95      0.95      0.95       440\n",
            "\n"
          ]
        }
      ]
    },
    {
      "cell_type": "code",
      "metadata": {
        "colab": {
          "base_uri": "https://localhost:8080/"
        },
        "id": "5K77RIPovo6F",
        "outputId": "fddb3600-555f-4ca1-a9da-dffa4ea87377"
      },
      "source": [
        "#classification report Random Forest\n",
        "print('REPORT : \\n',classification_report(y_test,RForestPred))\n",
        "acc_logis = accuracy_score(y_test,RForestPred)"
      ],
      "execution_count": 18,
      "outputs": [
        {
          "output_type": "stream",
          "name": "stdout",
          "text": [
            "REPORT : \n",
            "               precision    recall  f1-score   support\n",
            "\n",
            "           0       1.00      1.00      1.00        13\n",
            "           1       1.00      1.00      1.00        17\n",
            "           2       1.00      1.00      1.00        16\n",
            "           3       1.00      1.00      1.00        21\n",
            "           4       1.00      1.00      1.00        21\n",
            "           5       1.00      1.00      1.00        22\n",
            "           6       1.00      1.00      1.00        20\n",
            "           7       1.00      1.00      1.00        18\n",
            "           8       0.93      1.00      0.97        28\n",
            "           9       1.00      1.00      1.00        14\n",
            "          10       1.00      1.00      1.00        23\n",
            "          11       1.00      1.00      1.00        21\n",
            "          12       1.00      1.00      1.00        26\n",
            "          13       1.00      1.00      1.00        19\n",
            "          14       1.00      1.00      1.00        24\n",
            "          15       1.00      1.00      1.00        23\n",
            "          16       1.00      1.00      1.00        29\n",
            "          17       1.00      1.00      1.00        19\n",
            "          18       1.00      1.00      1.00        18\n",
            "          19       1.00      1.00      1.00        17\n",
            "          20       1.00      0.88      0.93        16\n",
            "          21       1.00      1.00      1.00        15\n",
            "\n",
            "    accuracy                           1.00       440\n",
            "   macro avg       1.00      0.99      1.00       440\n",
            "weighted avg       1.00      1.00      1.00       440\n",
            "\n"
          ]
        }
      ]
    },
    {
      "cell_type": "code",
      "metadata": {
        "colab": {
          "base_uri": "https://localhost:8080/"
        },
        "id": "rj-G9Qx1vpBA",
        "outputId": "0d805621-fc00-4747-a820-132a878bc134"
      },
      "source": [
        "#classification report XGBoost\n",
        "print('REPORT : \\n',classification_report(y_test,xgbPred))\n",
        "acc_logis = accuracy_score(y_test,xgbPred)"
      ],
      "execution_count": 19,
      "outputs": [
        {
          "output_type": "stream",
          "name": "stdout",
          "text": [
            "REPORT : \n",
            "               precision    recall  f1-score   support\n",
            "\n",
            "           0       1.00      1.00      1.00        13\n",
            "           1       1.00      1.00      1.00        17\n",
            "           2       1.00      1.00      1.00        16\n",
            "           3       1.00      1.00      1.00        21\n",
            "           4       1.00      1.00      1.00        21\n",
            "           5       1.00      1.00      1.00        22\n",
            "           6       1.00      1.00      1.00        20\n",
            "           7       1.00      1.00      1.00        18\n",
            "           8       0.96      0.93      0.95        28\n",
            "           9       1.00      1.00      1.00        14\n",
            "          10       1.00      1.00      1.00        23\n",
            "          11       1.00      1.00      1.00        21\n",
            "          12       1.00      1.00      1.00        26\n",
            "          13       1.00      1.00      1.00        19\n",
            "          14       1.00      1.00      1.00        24\n",
            "          15       1.00      1.00      1.00        23\n",
            "          16       1.00      1.00      1.00        29\n",
            "          17       1.00      1.00      1.00        19\n",
            "          18       1.00      1.00      1.00        18\n",
            "          19       1.00      1.00      1.00        17\n",
            "          20       0.88      0.94      0.91        16\n",
            "          21       1.00      1.00      1.00        15\n",
            "\n",
            "    accuracy                           0.99       440\n",
            "   macro avg       0.99      0.99      0.99       440\n",
            "weighted avg       0.99      0.99      0.99       440\n",
            "\n"
          ]
        }
      ]
    },
    {
      "cell_type": "code",
      "metadata": {
        "colab": {
          "base_uri": "https://localhost:8080/"
        },
        "id": "-P1gr4YyyGIA",
        "outputId": "320ba3ed-edbf-4560-94a2-4797d9a9b4fe"
      },
      "source": [
        "#Dari model diatas digunakan model Random Forest\n",
        "param = {'n_estimators':range(10,50,10),\n",
        "         'criterion':['gini'],\n",
        "         'max_depth':range(1,20,2),\n",
        "         'max_features':[1,2,3],\n",
        "         'min_samples_leaf':range(1,10,2),\n",
        "         }\n",
        "grid_RForest = GridSearchCV(RForest,param,cv=5,n_jobs=-1,verbose=1)\n",
        "grid_RForest.fit(x_train,y_train)"
      ],
      "execution_count": 20,
      "outputs": [
        {
          "output_type": "stream",
          "name": "stdout",
          "text": [
            "Fitting 5 folds for each of 600 candidates, totalling 3000 fits\n"
          ]
        },
        {
          "output_type": "execute_result",
          "data": {
            "text/plain": [
              "GridSearchCV(cv=5, estimator=RandomForestClassifier(), n_jobs=-1,\n",
              "             param_grid={'criterion': ['gini'], 'max_depth': range(1, 20, 2),\n",
              "                         'max_features': [1, 2, 3],\n",
              "                         'min_samples_leaf': range(1, 10, 2),\n",
              "                         'n_estimators': range(10, 50, 10)},\n",
              "             verbose=1)"
            ]
          },
          "metadata": {},
          "execution_count": 20
        }
      ]
    },
    {
      "cell_type": "code",
      "metadata": {
        "colab": {
          "base_uri": "https://localhost:8080/"
        },
        "id": "4S1aOg-H-jmD",
        "outputId": "8da034d5-866d-4d14-f82d-ae69986f1904"
      },
      "source": [
        "print(grid_RForest.best_params_)\n",
        "print(grid_RForest.best_score_)"
      ],
      "execution_count": 21,
      "outputs": [
        {
          "output_type": "stream",
          "name": "stdout",
          "text": [
            "{'criterion': 'gini', 'max_depth': 11, 'max_features': 2, 'min_samples_leaf': 1, 'n_estimators': 30}\n",
            "0.9965909090909092\n"
          ]
        }
      ]
    },
    {
      "cell_type": "code",
      "metadata": {
        "colab": {
          "base_uri": "https://localhost:8080/",
          "height": 941
        },
        "id": "F-3unRTX-w4T",
        "outputId": "e5bdf925-4354-4e49-a2c5-077cd95bf9c0"
      },
      "source": [
        "#predicting for test data and plotting confusion matrix\n",
        "pred_rand = grid_RForest.predict(x_test)\n",
        "print('Confusion Matrix : \\n')\n",
        "fig, ax = plt.subplots(figsize=(15,15))\n",
        "plot_confusion_matrix(grid_RForest,x_test,y_test,ax=ax,cmap=plt.cm.Blues)\n",
        "plt.show()"
      ],
      "execution_count": 22,
      "outputs": [
        {
          "output_type": "stream",
          "name": "stdout",
          "text": [
            "Confusion Matrix : \n",
            "\n"
          ]
        },
        {
          "output_type": "stream",
          "name": "stderr",
          "text": [
            "/usr/local/lib/python3.7/dist-packages/sklearn/utils/deprecation.py:87: FutureWarning: Function plot_confusion_matrix is deprecated; Function `plot_confusion_matrix` is deprecated in 1.0 and will be removed in 1.2. Use one of the class methods: ConfusionMatrixDisplay.from_predictions or ConfusionMatrixDisplay.from_estimator.\n",
            "  warnings.warn(msg, category=FutureWarning)\n"
          ]
        },
        {
          "output_type": "display_data",
          "data": {
            "image/png": "[encoded data removed]",
            "text/plain": [
              "<Figure size 1080x1080 with 2 Axes>"
            ]
          },
          "metadata": {
            "needs_background": "light"
          }
        }
      ]
    },
    {
      "cell_type": "code",
      "metadata": {
        "id": "lJcgKc5qwUSO"
      },
      "source": [
        "#importing pickle file\n",
        "import pickle\n",
        "pickle_out = open('classifier.pkl','wb')\n",
        "pickle.dump(grid_RForest,pickle_out)\n",
        "pickle_out.close()"
      ],
      "execution_count": 23,
      "outputs": []
    },
    {
      "cell_type": "code",
      "metadata": {
        "id": "gGkaUCCwxd9h"
      },
      "source": [
        "a = [[80,35,40,30,80,7.5,100]]\n",
        "b = [[100, 15, 27, 27, 56, 6, 128]]"
      ],
      "execution_count": 26,
      "outputs": []
    },
    {
      "cell_type": "code",
      "metadata": {
        "colab": {
          "base_uri": "https://localhost:8080/",
          "height": 805
        },
        "id": "_DaqPUFpxosc",
        "outputId": "9ca009ca-a148-4747-e14d-b7c92d21d48a"
      },
      "source": [
        "pickle_in = open('classifier.pkl','rb')\n",
        "model = pickle.load(pickle_in)\n",
        "pre = model.predict_proba(b)\n",
        "pre = pd.DataFrame(data = np.round(pre.T*100,2), index=classes.index,columns=['predicted_values'])\n",
        "pre"
      ],
      "execution_count": 27,
      "outputs": [
        {
          "output_type": "stream",
          "name": "stderr",
          "text": [
            "/usr/local/lib/python3.7/dist-packages/sklearn/base.py:446: UserWarning: X does not have valid feature names, but RandomForestClassifier was fitted with feature names\n",
            "  \"X does not have valid feature names, but\"\n"
          ]
        },
        {
          "output_type": "execute_result",
          "data": {
            "text/html": [
              "<div>\n",
              "<style scoped>\n",
              "    .dataframe tbody tr th:only-of-type {\n",
              "        vertical-align: middle;\n",
              "    }\n",
              "\n",
              "    .dataframe tbody tr th {\n",
              "        vertical-align: top;\n",
              "    }\n",
              "\n",
              "    .dataframe thead th {\n",
              "        text-align: right;\n",
              "    }\n",
              "</style>\n",
              "<table border=\"1\" class=\"dataframe\">\n",
              "  <thead>\n",
              "    <tr style=\"text-align: right;\">\n",
              "      <th></th>\n",
              "      <th>predicted_values</th>\n",
              "    </tr>\n",
              "    <tr>\n",
              "      <th>label</th>\n",
              "      <th></th>\n",
              "    </tr>\n",
              "  </thead>\n",
              "  <tbody>\n",
              "    <tr>\n",
              "      <th>apple</th>\n",
              "      <td>0.00</td>\n",
              "    </tr>\n",
              "    <tr>\n",
              "      <th>banana</th>\n",
              "      <td>0.00</td>\n",
              "    </tr>\n",
              "    <tr>\n",
              "      <th>blackgram</th>\n",
              "      <td>0.00</td>\n",
              "    </tr>\n",
              "    <tr>\n",
              "      <th>chickpea</th>\n",
              "      <td>0.00</td>\n",
              "    </tr>\n",
              "    <tr>\n",
              "      <th>coconut</th>\n",
              "      <td>0.00</td>\n",
              "    </tr>\n",
              "    <tr>\n",
              "      <th>coffee</th>\n",
              "      <td>95.24</td>\n",
              "    </tr>\n",
              "    <tr>\n",
              "      <th>cotton</th>\n",
              "      <td>0.00</td>\n",
              "    </tr>\n",
              "    <tr>\n",
              "      <th>grapes</th>\n",
              "      <td>0.00</td>\n",
              "    </tr>\n",
              "    <tr>\n",
              "      <th>jute</th>\n",
              "      <td>0.00</td>\n",
              "    </tr>\n",
              "    <tr>\n",
              "      <th>kidneybeans</th>\n",
              "      <td>0.00</td>\n",
              "    </tr>\n",
              "    <tr>\n",
              "      <th>lentil</th>\n",
              "      <td>0.00</td>\n",
              "    </tr>\n",
              "    <tr>\n",
              "      <th>maize</th>\n",
              "      <td>0.00</td>\n",
              "    </tr>\n",
              "    <tr>\n",
              "      <th>mango</th>\n",
              "      <td>1.43</td>\n",
              "    </tr>\n",
              "    <tr>\n",
              "      <th>mothbeans</th>\n",
              "      <td>0.00</td>\n",
              "    </tr>\n",
              "    <tr>\n",
              "      <th>mungbean</th>\n",
              "      <td>0.00</td>\n",
              "    </tr>\n",
              "    <tr>\n",
              "      <th>muskmelon</th>\n",
              "      <td>3.33</td>\n",
              "    </tr>\n",
              "    <tr>\n",
              "      <th>orange</th>\n",
              "      <td>0.00</td>\n",
              "    </tr>\n",
              "    <tr>\n",
              "      <th>papaya</th>\n",
              "      <td>0.00</td>\n",
              "    </tr>\n",
              "    <tr>\n",
              "      <th>pigeonpeas</th>\n",
              "      <td>0.00</td>\n",
              "    </tr>\n",
              "    <tr>\n",
              "      <th>pomegranate</th>\n",
              "      <td>0.00</td>\n",
              "    </tr>\n",
              "    <tr>\n",
              "      <th>rice</th>\n",
              "      <td>0.00</td>\n",
              "    </tr>\n",
              "    <tr>\n",
              "      <th>watermelon</th>\n",
              "      <td>0.00</td>\n",
              "    </tr>\n",
              "  </tbody>\n",
              "</table>\n",
              "</div>"
            ],
            "text/plain": [
              "             predicted_values\n",
              "label                        \n",
              "apple                    0.00\n",
              "banana                   0.00\n",
              "blackgram                0.00\n",
              "chickpea                 0.00\n",
              "coconut                  0.00\n",
              "coffee                  95.24\n",
              "cotton                   0.00\n",
              "grapes                   0.00\n",
              "jute                     0.00\n",
              "kidneybeans              0.00\n",
              "lentil                   0.00\n",
              "maize                    0.00\n",
              "mango                    1.43\n",
              "mothbeans                0.00\n",
              "mungbean                 0.00\n",
              "muskmelon                3.33\n",
              "orange                   0.00\n",
              "papaya                   0.00\n",
              "pigeonpeas               0.00\n",
              "pomegranate              0.00\n",
              "rice                     0.00\n",
              "watermelon               0.00"
            ]
          },
          "metadata": {},
          "execution_count": 27
        }
      ]
    }
  ]
}